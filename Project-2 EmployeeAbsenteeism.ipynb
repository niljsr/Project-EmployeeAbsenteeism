{
 "cells": [
  {
   "cell_type": "code",
   "execution_count": 1,
   "metadata": {
    "collapsed": true
   },
   "outputs": [],
   "source": [
    "import os\n",
    "import pandas as pd\n",
    "import numpy as np"
   ]
  },
  {
   "cell_type": "code",
   "execution_count": 2,
   "metadata": {
    "collapsed": true
   },
   "outputs": [],
   "source": [
    "os.chdir(\"G:\\edwisor\")"
   ]
  },
  {
   "cell_type": "code",
   "execution_count": 3,
   "metadata": {},
   "outputs": [
    {
     "data": {
      "text/plain": [
       "'G:\\\\edwisor'"
      ]
     },
     "execution_count": 3,
     "metadata": {},
     "output_type": "execute_result"
    }
   ],
   "source": [
    "os.getcwd()"
   ]
  },
  {
   "cell_type": "code",
   "execution_count": 4,
   "metadata": {
    "collapsed": true
   },
   "outputs": [],
   "source": [
    "# importing the data sheet\n",
    "file = 'data2.xls'\n",
    "data = pd.ExcelFile(file)\n",
    "df1 = data.parse()"
   ]
  },
  {
   "cell_type": "code",
   "execution_count": 6,
   "metadata": {},
   "outputs": [
    {
     "name": "stdout",
     "output_type": "stream",
     "text": [
      "Collecting numpy\n",
      "  Downloading https://files.pythonhosted.org/packages/53/d1/2499797c88de95ea3239ad7f6e6a47895fe51aad1aa2a116f50ec9e0ee74/numpy-1.15.0-cp36-none-win_amd64.whl (13.5MB)\n",
      "Installing collected packages: numpy\n",
      "Successfully installed numpy-1.15.0\n"
     ]
    },
    {
     "name": "stderr",
     "output_type": "stream",
     "text": [
      "You are using pip version 9.0.1, however version 18.0 is available.\n",
      "You should consider upgrading via the 'python -m pip install --upgrade pip' command.\n"
     ]
    }
   ],
   "source": [
    "!pip install numpy --upgrade --user"
   ]
  },
  {
   "cell_type": "code",
   "execution_count": null,
   "metadata": {
    "collapsed": true
   },
   "outputs": [],
   "source": [
    "!pip install fancyimpute"
   ]
  },
  {
   "cell_type": "code",
   "execution_count": 7,
   "metadata": {},
   "outputs": [
    {
     "ename": "ModuleNotFoundError",
     "evalue": "No module named 'fancyimpute'",
     "output_type": "error",
     "traceback": [
      "\u001b[1;31m---------------------------------------------------------------------------\u001b[0m",
      "\u001b[1;31mModuleNotFoundError\u001b[0m                       Traceback (most recent call last)",
      "\u001b[1;32m<ipython-input-7-f64b6a00ba9f>\u001b[0m in \u001b[0;36m<module>\u001b[1;34m()\u001b[0m\n\u001b[1;32m----> 1\u001b[1;33m \u001b[1;32mfrom\u001b[0m \u001b[0mfancyimpute\u001b[0m \u001b[1;32mimport\u001b[0m \u001b[0mMICE\u001b[0m \u001b[1;32mas\u001b[0m \u001b[0mMICE\u001b[0m\u001b[1;33m\u001b[0m\u001b[0m\n\u001b[0m\u001b[0;32m      2\u001b[0m \u001b[0mdata_new\u001b[0m\u001b[1;33m=\u001b[0m\u001b[0mMICE\u001b[0m\u001b[1;33m(\u001b[0m\u001b[1;33m)\u001b[0m\u001b[1;33m.\u001b[0m\u001b[0mcomplete\u001b[0m\u001b[1;33m(\u001b[0m\u001b[0mdf1\u001b[0m\u001b[1;33m)\u001b[0m\u001b[1;33m\u001b[0m\u001b[0m\n",
      "\u001b[1;31mModuleNotFoundError\u001b[0m: No module named 'fancyimpute'"
     ]
    }
   ],
   "source": [
    "# Missing Value Analysis\n",
    "\n",
    "from fancyimpute import MICE as MICE\n",
    "data_new=MICE().complete(df1)"
   ]
  },
  {
   "cell_type": "code",
   "execution_count": null,
   "metadata": {
    "collapsed": true
   },
   "outputs": [],
   "source": [
    "# Outlier Analysis\n",
    "# Detect Outliers\n",
    "\n",
    "cnames = ['Reason','Month','Day','Seasons','Transportationexpense','Distance','Servicetime','Age','WorkloadAverage','Hittarget','Disciplinaryfailure','Education','Son','Socialdrinker','Socialsmoker','Pet','Weight','Height','Bodymassindex','Absenteeism']\n"
   ]
  },
  {
   "cell_type": "code",
   "execution_count": null,
   "metadata": {
    "collapsed": true
   },
   "outputs": [],
   "source": [
    "for i in cnames :\n",
    "    print(i)\n",
    "    q75, q25 = np.percentile(data_new.loc[:,i], [75 ,25])\n",
    "    iqr = q75-q25\n",
    "    min = q25 - (float(iqr)*1.5)\n",
    "    max = q75 - (float(iqr)*1.5)\n",
    "    out_low = data_new[data_new.loc[:,i]<min]\n",
    "    out_high = data_new[data_new.loc[:,i]>max]\n",
    "    "
   ]
  },
  {
   "cell_type": "code",
   "execution_count": 16,
   "metadata": {},
   "outputs": [
    {
     "name": "stdout",
     "output_type": "stream",
     "text": [
      "Requirement already satisfied: statsmodels in c:\\users\\nil\\anaconda3\\lib\\site-packages\n"
     ]
    },
    {
     "name": "stderr",
     "output_type": "stream",
     "text": [
      "You are using pip version 9.0.1, however version 18.0 is available.\n",
      "You should consider upgrading via the 'python -m pip install --upgrade pip' command.\n"
     ]
    }
   ],
   "source": [
    "!pip install statsmodels"
   ]
  },
  {
   "cell_type": "code",
   "execution_count": 6,
   "metadata": {
    "collapsed": true
   },
   "outputs": [],
   "source": [
    "missing_value = pd.DataFrame(data_new.isnull().sum())"
   ]
  },
  {
   "cell_type": "code",
   "execution_count": 155,
   "metadata": {},
   "outputs": [
    {
     "name": "stdout",
     "output_type": "stream",
     "text": [
      "Requirement already satisfied: matplotlib in c:\\users\\nil\\anaconda3\\lib\\site-packages\n",
      "Requirement already satisfied: numpy>=1.7.1 in c:\\users\\nil\\appdata\\roaming\\python\\python36\\site-packages (from matplotlib)\n",
      "Requirement already satisfied: six>=1.10 in c:\\users\\nil\\anaconda3\\lib\\site-packages (from matplotlib)\n",
      "Requirement already satisfied: python-dateutil in c:\\users\\nil\\anaconda3\\lib\\site-packages (from matplotlib)\n",
      "Requirement already satisfied: pytz in c:\\users\\nil\\anaconda3\\lib\\site-packages (from matplotlib)\n",
      "Requirement already satisfied: cycler>=0.10 in c:\\users\\nil\\anaconda3\\lib\\site-packages (from matplotlib)\n",
      "Requirement already satisfied: pyparsing!=2.0.4,!=2.1.2,!=2.1.6,>=1.5.6 in c:\\users\\nil\\anaconda3\\lib\\site-packages (from matplotlib)\n"
     ]
    },
    {
     "name": "stderr",
     "output_type": "stream",
     "text": [
      "You are using pip version 9.0.1, however version 18.0 is available.\n",
      "You should consider upgrading via the 'python -m pip install --upgrade pip' command.\n"
     ]
    }
   ],
   "source": [
    "!pip install matplotlib"
   ]
  },
  {
   "cell_type": "code",
   "execution_count": 156,
   "metadata": {
    "collapsed": true
   },
   "outputs": [],
   "source": [
    "import matplotlib.pyplot as plt"
   ]
  },
  {
   "cell_type": "code",
   "execution_count": 116,
   "metadata": {
    "collapsed": true
   },
   "outputs": [],
   "source": [
    "# Creating function MAPE\n",
    "\n",
    "def MAPE(y_true,y_pred):\n",
    "    mape = np.mean(np.abs((y_true-y_pred)/y_true))*100\n",
    "    return mape"
   ]
  },
  {
   "cell_type": "code",
   "execution_count": 119,
   "metadata": {},
   "outputs": [
    {
     "name": "stdout",
     "output_type": "stream",
     "text": [
      "Requirement already satisfied: seaborn in c:\\users\\nil\\anaconda3\\lib\\site-packages\n"
     ]
    },
    {
     "name": "stderr",
     "output_type": "stream",
     "text": [
      "You are using pip version 9.0.1, however version 18.0 is available.\n",
      "You should consider upgrading via the 'python -m pip install --upgrade pip' command.\n"
     ]
    }
   ],
   "source": [
    "# Feature Selection\n",
    "!pip install seaborn\n",
    "import seaborn as sms"
   ]
  },
  {
   "cell_type": "code",
   "execution_count": 125,
   "metadata": {},
   "outputs": [
    {
     "data": {
      "text/plain": [
       "<function matplotlib.pyplot.show>"
      ]
     },
     "execution_count": 125,
     "metadata": {},
     "output_type": "execute_result"
    },
    {
     "data": {
      "image/png": "[encoded data removed]",
      "text/plain": [
       "<matplotlib.figure.Figure at 0x21da2a22b00>"
      ]
     },
     "metadata": {},
     "output_type": "display_data"
    }
   ],
   "source": [
    "# Creating the heat map\n",
    "\n",
    "import matplotlib.pyplot as plt\n",
    "%matplotlib inline\n",
    "#Set the width and hieght of the plot\n",
    "f, ax = plt.subplots(figsize=(7, 5))\n",
    "\n",
    "#Generate correlation matrix\n",
    "corr = data_new.corr()\n",
    "\n",
    "#Plot using seaborn library\n",
    "sms.heatmap(corr, cmap=sms.diverging_palette(220, 10, as_cmap=True),\n",
    "            square=True, ax=ax)\n",
    "plt.show"
   ]
  },
  {
   "cell_type": "code",
   "execution_count": 130,
   "metadata": {},
   "outputs": [
    {
     "ename": "ValueError",
     "evalue": "labels ['Weight'] not contained in axis",
     "output_type": "error",
     "traceback": [
      "\u001b[1;31m---------------------------------------------------------------------------\u001b[0m",
      "\u001b[1;31mValueError\u001b[0m                                Traceback (most recent call last)",
      "\u001b[1;32m<ipython-input-130-f1aaa88ab954>\u001b[0m in \u001b[0;36m<module>\u001b[1;34m()\u001b[0m\n\u001b[1;32m----> 1\u001b[1;33m \u001b[0mdata_new\u001b[0m \u001b[1;33m=\u001b[0m \u001b[0mdata_new\u001b[0m\u001b[1;33m.\u001b[0m\u001b[0mdrop\u001b[0m\u001b[1;33m(\u001b[0m\u001b[1;33m[\u001b[0m\u001b[1;34m'Weight'\u001b[0m\u001b[1;33m]\u001b[0m\u001b[1;33m,\u001b[0m\u001b[0maxis\u001b[0m\u001b[1;33m=\u001b[0m\u001b[1;36m1\u001b[0m\u001b[1;33m)\u001b[0m\u001b[1;33m\u001b[0m\u001b[0m\n\u001b[0m",
      "\u001b[1;32mC:\\Users\\NIL\\Anaconda3\\lib\\site-packages\\pandas\\core\\generic.py\u001b[0m in \u001b[0;36mdrop\u001b[1;34m(self, labels, axis, level, inplace, errors)\u001b[0m\n\u001b[0;32m   2048\u001b[0m                 \u001b[0mnew_axis\u001b[0m \u001b[1;33m=\u001b[0m \u001b[0maxis\u001b[0m\u001b[1;33m.\u001b[0m\u001b[0mdrop\u001b[0m\u001b[1;33m(\u001b[0m\u001b[0mlabels\u001b[0m\u001b[1;33m,\u001b[0m \u001b[0mlevel\u001b[0m\u001b[1;33m=\u001b[0m\u001b[0mlevel\u001b[0m\u001b[1;33m,\u001b[0m \u001b[0merrors\u001b[0m\u001b[1;33m=\u001b[0m\u001b[0merrors\u001b[0m\u001b[1;33m)\u001b[0m\u001b[1;33m\u001b[0m\u001b[0m\n\u001b[0;32m   2049\u001b[0m             \u001b[1;32melse\u001b[0m\u001b[1;33m:\u001b[0m\u001b[1;33m\u001b[0m\u001b[0m\n\u001b[1;32m-> 2050\u001b[1;33m                 \u001b[0mnew_axis\u001b[0m \u001b[1;33m=\u001b[0m \u001b[0maxis\u001b[0m\u001b[1;33m.\u001b[0m\u001b[0mdrop\u001b[0m\u001b[1;33m(\u001b[0m\u001b[0mlabels\u001b[0m\u001b[1;33m,\u001b[0m \u001b[0merrors\u001b[0m\u001b[1;33m=\u001b[0m\u001b[0merrors\u001b[0m\u001b[1;33m)\u001b[0m\u001b[1;33m\u001b[0m\u001b[0m\n\u001b[0m\u001b[0;32m   2051\u001b[0m             \u001b[0mdropped\u001b[0m \u001b[1;33m=\u001b[0m \u001b[0mself\u001b[0m\u001b[1;33m.\u001b[0m\u001b[0mreindex\u001b[0m\u001b[1;33m(\u001b[0m\u001b[1;33m**\u001b[0m\u001b[1;33m{\u001b[0m\u001b[0maxis_name\u001b[0m\u001b[1;33m:\u001b[0m \u001b[0mnew_axis\u001b[0m\u001b[1;33m}\u001b[0m\u001b[1;33m)\u001b[0m\u001b[1;33m\u001b[0m\u001b[0m\n\u001b[0;32m   2052\u001b[0m             \u001b[1;32mtry\u001b[0m\u001b[1;33m:\u001b[0m\u001b[1;33m\u001b[0m\u001b[0m\n",
      "\u001b[1;32mC:\\Users\\NIL\\Anaconda3\\lib\\site-packages\\pandas\\core\\indexes\\base.py\u001b[0m in \u001b[0;36mdrop\u001b[1;34m(self, labels, errors)\u001b[0m\n\u001b[0;32m   3573\u001b[0m             \u001b[1;32mif\u001b[0m \u001b[0merrors\u001b[0m \u001b[1;33m!=\u001b[0m \u001b[1;34m'ignore'\u001b[0m\u001b[1;33m:\u001b[0m\u001b[1;33m\u001b[0m\u001b[0m\n\u001b[0;32m   3574\u001b[0m                 raise ValueError('labels %s not contained in axis' %\n\u001b[1;32m-> 3575\u001b[1;33m                                  labels[mask])\n\u001b[0m\u001b[0;32m   3576\u001b[0m             \u001b[0mindexer\u001b[0m \u001b[1;33m=\u001b[0m \u001b[0mindexer\u001b[0m\u001b[1;33m[\u001b[0m\u001b[1;33m~\u001b[0m\u001b[0mmask\u001b[0m\u001b[1;33m]\u001b[0m\u001b[1;33m\u001b[0m\u001b[0m\n\u001b[0;32m   3577\u001b[0m         \u001b[1;32mreturn\u001b[0m \u001b[0mself\u001b[0m\u001b[1;33m.\u001b[0m\u001b[0mdelete\u001b[0m\u001b[1;33m(\u001b[0m\u001b[0mindexer\u001b[0m\u001b[1;33m)\u001b[0m\u001b[1;33m\u001b[0m\u001b[0m\n",
      "\u001b[1;31mValueError\u001b[0m: labels ['Weight'] not contained in axis"
     ]
    }
   ],
   "source": [
    "# Dropping Weight as it has high Correlation \n",
    "data_new = data_new.drop(['Weight'],axis=1)"
   ]
  },
  {
   "cell_type": "code",
   "execution_count": 131,
   "metadata": {},
   "outputs": [
    {
     "name": "stdout",
     "output_type": "stream",
     "text": [
      "Index(['Reason', 'Month', 'Day', 'Seasons', 'Transportationexpense',\n",
      "       'Distance', 'Servicetime', 'Age', 'WorkloadAverage', 'Hittarget',\n",
      "       'Disciplinaryfailure', 'Education', 'Son', 'Socialdrinker',\n",
      "       'Socialsmoker', 'Pet', 'Height', 'Bodymassindex', 'Absenteeism'],\n",
      "      dtype='object')\n"
     ]
    }
   ],
   "source": [
    "headers = data_new.dtypes.index\n",
    "print(headers)"
   ]
  },
  {
   "cell_type": "code",
   "execution_count": 133,
   "metadata": {
    "collapsed": true
   },
   "outputs": [],
   "source": [
    "# split the variables into train and test\n",
    "\n",
    "train,test = train_test_split(data_new, test_size =0.4)"
   ]
  },
  {
   "cell_type": "code",
   "execution_count": 134,
   "metadata": {},
   "outputs": [
    {
     "name": "stdout",
     "output_type": "stream",
     "text": [
      "Requirement already satisfied: statsmodels in c:\\users\\nil\\anaconda3\\lib\\site-packages\n"
     ]
    },
    {
     "name": "stderr",
     "output_type": "stream",
     "text": [
      "You are using pip version 9.0.1, however version 18.0 is available.\n",
      "You should consider upgrading via the 'python -m pip install --upgrade pip' command.\n"
     ]
    }
   ],
   "source": [
    "!pip install statsmodels"
   ]
  },
  {
   "cell_type": "code",
   "execution_count": 135,
   "metadata": {},
   "outputs": [
    {
     "name": "stderr",
     "output_type": "stream",
     "text": [
      "C:\\Users\\NIL\\Anaconda3\\lib\\site-packages\\statsmodels\\compat\\pandas.py:56: FutureWarning: The pandas.core.datetools module is deprecated and will be removed in a future version. Please use the pandas.tseries module instead.\n",
      "  from pandas.core import datetools\n"
     ]
    }
   ],
   "source": [
    "# Multiple Linear Regression\n",
    "import statsmodels.api as sm"
   ]
  },
  {
   "cell_type": "code",
   "execution_count": 138,
   "metadata": {
    "collapsed": true
   },
   "outputs": [],
   "source": [
    "model = sm.OLS(train.iloc[:,18], train.iloc[:,0:18]).fit()"
   ]
  },
  {
   "cell_type": "code",
   "execution_count": 139,
   "metadata": {},
   "outputs": [
    {
     "data": {
      "text/html": [
       "<table class=\"simpletable\">\n",
       "<caption>OLS Regression Results</caption>\n",
       "<tr>\n",
       "  <th>Dep. Variable:</th>       <td>Absenteeism</td>   <th>  R-squared:         </th> <td>   0.313</td>\n",
       "</tr>\n",
       "<tr>\n",
       "  <th>Model:</th>                   <td>OLS</td>       <th>  Adj. R-squared:    </th> <td>   0.284</td>\n",
       "</tr>\n",
       "<tr>\n",
       "  <th>Method:</th>             <td>Least Squares</td>  <th>  F-statistic:       </th> <td>   10.79</td>\n",
       "</tr>\n",
       "<tr>\n",
       "  <th>Date:</th>             <td>Sat, 11 Aug 2018</td> <th>  Prob (F-statistic):</th> <td>2.25e-25</td>\n",
       "</tr>\n",
       "<tr>\n",
       "  <th>Time:</th>                 <td>20:05:24</td>     <th>  Log-Likelihood:    </th> <td> -1759.0</td>\n",
       "</tr>\n",
       "<tr>\n",
       "  <th>No. Observations:</th>      <td>   444</td>      <th>  AIC:               </th> <td>   3554.</td>\n",
       "</tr>\n",
       "<tr>\n",
       "  <th>Df Residuals:</th>          <td>   426</td>      <th>  BIC:               </th> <td>   3628.</td>\n",
       "</tr>\n",
       "<tr>\n",
       "  <th>Df Model:</th>              <td>    18</td>      <th>                     </th>     <td> </td>   \n",
       "</tr>\n",
       "<tr>\n",
       "  <th>Covariance Type:</th>      <td>nonrobust</td>    <th>                     </th>     <td> </td>   \n",
       "</tr>\n",
       "</table>\n",
       "<table class=\"simpletable\">\n",
       "<tr>\n",
       "            <td></td>               <th>coef</th>     <th>std err</th>      <th>t</th>      <th>P>|t|</th>  <th>[0.025</th>    <th>0.975]</th>  \n",
       "</tr>\n",
       "<tr>\n",
       "  <th>Reason</th>                <td>   -0.5000</td> <td>    0.089</td> <td>   -5.642</td> <td> 0.000</td> <td>   -0.674</td> <td>   -0.326</td>\n",
       "</tr>\n",
       "<tr>\n",
       "  <th>Month</th>                 <td>    0.0177</td> <td>    0.232</td> <td>    0.076</td> <td> 0.939</td> <td>   -0.438</td> <td>    0.474</td>\n",
       "</tr>\n",
       "<tr>\n",
       "  <th>Day</th>                   <td>   -0.9256</td> <td>    0.455</td> <td>   -2.035</td> <td> 0.042</td> <td>   -1.820</td> <td>   -0.032</td>\n",
       "</tr>\n",
       "<tr>\n",
       "  <th>Seasons</th>               <td>    0.7873</td> <td>    0.654</td> <td>    1.203</td> <td> 0.230</td> <td>   -0.499</td> <td>    2.073</td>\n",
       "</tr>\n",
       "<tr>\n",
       "  <th>Transportationexpense</th> <td>   -0.0016</td> <td>    0.012</td> <td>   -0.132</td> <td> 0.895</td> <td>   -0.026</td> <td>    0.023</td>\n",
       "</tr>\n",
       "<tr>\n",
       "  <th>Distance</th>              <td>   -0.0599</td> <td>    0.058</td> <td>   -1.039</td> <td> 0.299</td> <td>   -0.173</td> <td>    0.053</td>\n",
       "</tr>\n",
       "<tr>\n",
       "  <th>Servicetime</th>           <td>    0.0605</td> <td>    0.258</td> <td>    0.234</td> <td> 0.815</td> <td>   -0.447</td> <td>    0.568</td>\n",
       "</tr>\n",
       "<tr>\n",
       "  <th>Age</th>                   <td>    0.1626</td> <td>    0.151</td> <td>    1.079</td> <td> 0.281</td> <td>   -0.134</td> <td>    0.459</td>\n",
       "</tr>\n",
       "<tr>\n",
       "  <th>WorkloadAverage</th>       <td>-1.576e-05</td> <td> 1.71e-05</td> <td>   -0.924</td> <td> 0.356</td> <td>-4.93e-05</td> <td> 1.78e-05</td>\n",
       "</tr>\n",
       "<tr>\n",
       "  <th>Hittarget</th>             <td>    0.1032</td> <td>    0.164</td> <td>    0.628</td> <td> 0.530</td> <td>   -0.219</td> <td>    0.426</td>\n",
       "</tr>\n",
       "<tr>\n",
       "  <th>Disciplinaryfailure</th>   <td>  -17.8421</td> <td>    3.267</td> <td>   -5.462</td> <td> 0.000</td> <td>  -24.263</td> <td>  -11.421</td>\n",
       "</tr>\n",
       "<tr>\n",
       "  <th>Education</th>             <td>   -1.6967</td> <td>    1.175</td> <td>   -1.444</td> <td> 0.150</td> <td>   -4.007</td> <td>    0.613</td>\n",
       "</tr>\n",
       "<tr>\n",
       "  <th>Son</th>                   <td>    0.7364</td> <td>    0.675</td> <td>    1.092</td> <td> 0.276</td> <td>   -0.589</td> <td>    2.062</td>\n",
       "</tr>\n",
       "<tr>\n",
       "  <th>Socialdrinker</th>         <td>    1.8760</td> <td>    1.901</td> <td>    0.987</td> <td> 0.324</td> <td>   -1.861</td> <td>    5.613</td>\n",
       "</tr>\n",
       "<tr>\n",
       "  <th>Socialsmoker</th>          <td>   -3.3955</td> <td>    2.495</td> <td>   -1.361</td> <td> 0.174</td> <td>   -8.300</td> <td>    1.509</td>\n",
       "</tr>\n",
       "<tr>\n",
       "  <th>Pet</th>                   <td>    0.1334</td> <td>    0.681</td> <td>    0.196</td> <td> 0.845</td> <td>   -1.206</td> <td>    1.473</td>\n",
       "</tr>\n",
       "<tr>\n",
       "  <th>Height</th>                <td>    0.1085</td> <td>    0.095</td> <td>    1.142</td> <td> 0.254</td> <td>   -0.078</td> <td>    0.295</td>\n",
       "</tr>\n",
       "<tr>\n",
       "  <th>Bodymassindex</th>         <td>   -0.3424</td> <td>    0.209</td> <td>   -1.635</td> <td> 0.103</td> <td>   -0.754</td> <td>    0.069</td>\n",
       "</tr>\n",
       "</table>\n",
       "<table class=\"simpletable\">\n",
       "<tr>\n",
       "  <th>Omnibus:</th>       <td>490.047</td> <th>  Durbin-Watson:     </th> <td>   2.007</td> \n",
       "</tr>\n",
       "<tr>\n",
       "  <th>Prob(Omnibus):</th> <td> 0.000</td>  <th>  Jarque-Bera (JB):  </th> <td>22180.810</td>\n",
       "</tr>\n",
       "<tr>\n",
       "  <th>Skew:</th>          <td> 5.133</td>  <th>  Prob(JB):          </th> <td>    0.00</td> \n",
       "</tr>\n",
       "<tr>\n",
       "  <th>Kurtosis:</th>      <td>36.069</td>  <th>  Cond. No.          </th> <td>1.47e+06</td> \n",
       "</tr>\n",
       "</table>"
      ],
      "text/plain": [
       "<class 'statsmodels.iolib.summary.Summary'>\n",
       "\"\"\"\n",
       "                            OLS Regression Results                            \n",
       "==============================================================================\n",
       "Dep. Variable:            Absenteeism   R-squared:                       0.313\n",
       "Model:                            OLS   Adj. R-squared:                  0.284\n",
       "Method:                 Least Squares   F-statistic:                     10.79\n",
       "Date:                Sat, 11 Aug 2018   Prob (F-statistic):           2.25e-25\n",
       "Time:                        20:05:24   Log-Likelihood:                -1759.0\n",
       "No. Observations:                 444   AIC:                             3554.\n",
       "Df Residuals:                     426   BIC:                             3628.\n",
       "Df Model:                          18                                         \n",
       "Covariance Type:            nonrobust                                         \n",
       "=========================================================================================\n",
       "                            coef    std err          t      P>|t|      [0.025      0.975]\n",
       "-----------------------------------------------------------------------------------------\n",
       "Reason                   -0.5000      0.089     -5.642      0.000      -0.674      -0.326\n",
       "Month                     0.0177      0.232      0.076      0.939      -0.438       0.474\n",
       "Day                      -0.9256      0.455     -2.035      0.042      -1.820      -0.032\n",
       "Seasons                   0.7873      0.654      1.203      0.230      -0.499       2.073\n",
       "Transportationexpense    -0.0016      0.012     -0.132      0.895      -0.026       0.023\n",
       "Distance                 -0.0599      0.058     -1.039      0.299      -0.173       0.053\n",
       "Servicetime               0.0605      0.258      0.234      0.815      -0.447       0.568\n",
       "Age                       0.1626      0.151      1.079      0.281      -0.134       0.459\n",
       "WorkloadAverage       -1.576e-05   1.71e-05     -0.924      0.356   -4.93e-05    1.78e-05\n",
       "Hittarget                 0.1032      0.164      0.628      0.530      -0.219       0.426\n",
       "Disciplinaryfailure     -17.8421      3.267     -5.462      0.000     -24.263     -11.421\n",
       "Education                -1.6967      1.175     -1.444      0.150      -4.007       0.613\n",
       "Son                       0.7364      0.675      1.092      0.276      -0.589       2.062\n",
       "Socialdrinker             1.8760      1.901      0.987      0.324      -1.861       5.613\n",
       "Socialsmoker             -3.3955      2.495     -1.361      0.174      -8.300       1.509\n",
       "Pet                       0.1334      0.681      0.196      0.845      -1.206       1.473\n",
       "Height                    0.1085      0.095      1.142      0.254      -0.078       0.295\n",
       "Bodymassindex            -0.3424      0.209     -1.635      0.103      -0.754       0.069\n",
       "==============================================================================\n",
       "Omnibus:                      490.047   Durbin-Watson:                   2.007\n",
       "Prob(Omnibus):                  0.000   Jarque-Bera (JB):            22180.810\n",
       "Skew:                           5.133   Prob(JB):                         0.00\n",
       "Kurtosis:                      36.069   Cond. No.                     1.47e+06\n",
       "==============================================================================\n",
       "\n",
       "Warnings:\n",
       "[1] Standard Errors assume that the covariance matrix of the errors is correctly specified.\n",
       "[2] The condition number is large, 1.47e+06. This might indicate that there are\n",
       "strong multicollinearity or other numerical problems.\n",
       "\"\"\""
      ]
     },
     "execution_count": 139,
     "metadata": {},
     "output_type": "execute_result"
    }
   ],
   "source": [
    "model.summary()"
   ]
  },
  {
   "cell_type": "code",
   "execution_count": 140,
   "metadata": {
    "collapsed": true
   },
   "outputs": [],
   "source": [
    "predictions_LR = model.predict(test.iloc[:,0:18])"
   ]
  },
  {
   "cell_type": "code",
   "execution_count": 141,
   "metadata": {},
   "outputs": [
    {
     "data": {
      "text/plain": [
       "99.99736178514983"
      ]
     },
     "execution_count": 141,
     "metadata": {},
     "output_type": "execute_result"
    }
   ],
   "source": [
    "# Accuracy\n",
    "MAPE(test.iloc[:,18], predictions_LR)"
   ]
  },
  {
   "cell_type": "code",
   "execution_count": 9,
   "metadata": {
    "collapsed": true
   },
   "outputs": [],
   "source": [
    "# Model Evaluation\n",
    "# Mean Square Error\n",
    "from sklearn.metrics import mean_squared_error"
   ]
  },
  {
   "cell_type": "code",
   "execution_count": null,
   "metadata": {
    "collapsed": true
   },
   "outputs": [],
   "source": [
    "mse = mean_squared_error(test.iloc[:,18], predictions_LR)\n",
    "print(mse)"
   ]
  },
  {
   "cell_type": "code",
   "execution_count": 142,
   "metadata": {},
   "outputs": [
    {
     "name": "stderr",
     "output_type": "stream",
     "text": [
      "C:\\Users\\NIL\\Anaconda3\\lib\\site-packages\\sklearn\\ensemble\\weight_boosting.py:29: DeprecationWarning: numpy.core.umath_tests is an internal NumPy module and should not be imported. It will be removed in a future NumPy release.\n",
      "  from numpy.core.umath_tests import inner1d\n"
     ]
    }
   ],
   "source": [
    "# random Forest Model Development\n",
    "\n",
    "from sklearn.ensemble import RandomForestRegressor"
   ]
  },
  {
   "cell_type": "code",
   "execution_count": 143,
   "metadata": {
    "collapsed": true
   },
   "outputs": [],
   "source": [
    "RF_Model = RandomForestRegressor(n_estimators=500).fit(X_train,y_train)"
   ]
  },
  {
   "cell_type": "code",
   "execution_count": 144,
   "metadata": {
    "collapsed": true
   },
   "outputs": [],
   "source": [
    "RF_Prediction = RF_Model.predict(X_test)"
   ]
  },
  {
   "cell_type": "code",
   "execution_count": 8,
   "metadata": {
    "collapsed": true
   },
   "outputs": [],
   "source": [
    "# model Evaluation\n",
    "# MSE(Mean Square Error)\n",
    "\n",
    "from sklearn.metrics import mean_squared_error"
   ]
  },
  {
   "cell_type": "code",
   "execution_count": null,
   "metadata": {
    "collapsed": true
   },
   "outputs": [],
   "source": [
    "mse = mean_squared_error(y_test, RF_Prediction)\n",
    "print(mse)"
   ]
  }
 ],
 "metadata": {
  "kernelspec": {
   "display_name": "Python 3",
   "language": "python",
   "name": "python3"
  },
  "language_info": {
   "codemirror_mode": {
    "name": "ipython",
    "version": 3
   },
   "file_extension": ".py",
   "mimetype": "text/x-python",
   "name": "python",
   "nbconvert_exporter": "python",
   "pygments_lexer": "ipython3",
   "version": "3.6.1"
  }
 },
 "nbformat": 4,
 "nbformat_minor": 2
}
